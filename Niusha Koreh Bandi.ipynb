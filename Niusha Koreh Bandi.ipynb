{
 "cells": [
  {
   "cell_type": "markdown",
   "id": "8183055c",
   "metadata": {},
   "source": [
    "# My Jupyter Notebook on IBM Watson Studio"
   ]
  },
  {
   "cell_type": "markdown",
   "id": "486d41aa",
   "metadata": {},
   "source": [
    "**Niusha Koreh Bandi**\n",
    "\n",
    "Data scientist and artificial intelligence expert"
   ]
  },
  {
   "cell_type": "markdown",
   "id": "435e72f3",
   "metadata": {},
   "source": [
    "*I am interested in data science because I think that with its help, \n",
    "it is possible to make the right decisions, optimize and improve performance in various fields.*"
   ]
  },
  {
   "cell_type": "markdown",
   "id": "0dded70a",
   "metadata": {},
   "source": [
    "### A function that receives a number and puts it in the formula"
   ]
  },
  {
   "cell_type": "code",
   "execution_count": 7,
   "id": "3f1108f1",
   "metadata": {},
   "outputs": [
    {
     "data": {
      "text/plain": [
       "12.0"
      ]
     },
     "execution_count": 7,
     "metadata": {},
     "output_type": "execute_result"
    }
   ],
   "source": [
    "def Calculations(n):\n",
    "    return(((n**2 + 8)/2))\n",
    "\n",
    "Calculations(4)"
   ]
  },
  {
   "cell_type": "markdown",
   "id": "c73e01cc",
   "metadata": {},
   "source": [
    "\n",
    "|Name|Age|Marks|\n",
    "|-----|-----|-----|\n",
    "|Tom|18|80|\n",
    "|Liam|19|95|\n",
    "|Jak|18|89|"
   ]
  },
  {
   "cell_type": "markdown",
   "id": "8b2148f3",
   "metadata": {},
   "source": [
    "1. Python\n",
    "   1. Flask\n",
    "   10. PyQt\n",
    "   6. Pandas\n",
    "5. Java\n",
    "    1. Hibernate\n",
    "    2. Spring"
   ]
  },
  {
   "cell_type": "code",
   "execution_count": null,
   "id": "4284f14b",
   "metadata": {},
   "outputs": [],
   "source": [
    "* Numpy\n",
    "* Pandas\n",
    "* "
   ]
  }
 ],
 "metadata": {
  "kernelspec": {
   "display_name": "Python 3 (ipykernel)",
   "language": "python",
   "name": "python3"
  },
  "language_info": {
   "codemirror_mode": {
    "name": "ipython",
    "version": 3
   },
   "file_extension": ".py",
   "mimetype": "text/x-python",
   "name": "python",
   "nbconvert_exporter": "python",
   "pygments_lexer": "ipython3",
   "version": "3.9.12"
  }
 },
 "nbformat": 4,
 "nbformat_minor": 5
}
